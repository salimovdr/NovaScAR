{
 "cells": [
  {
   "cell_type": "code",
   "execution_count": 87,
   "id": "db939a86-887f-4157-a9f0-c7e46c265836",
   "metadata": {},
   "outputs": [],
   "source": [
    "import os\n",
    "import pandas as pd\n",
    "import numpy as np\n",
    "from tqdm import tqdm\n",
    "from concurrent.futures import ProcessPoolExecutor, as_completed\n",
    "import argparse\n",
    "import json"
   ]
  },
  {
   "cell_type": "code",
   "execution_count": 88,
   "id": "12db3ea0-1ef3-4071-ae3a-e63fa2a2ce0f",
   "metadata": {},
   "outputs": [
    {
     "data": {
      "text/html": [
       "<div>\n",
       "<style scoped>\n",
       "    .dataframe tbody tr th:only-of-type {\n",
       "        vertical-align: middle;\n",
       "    }\n",
       "\n",
       "    .dataframe tbody tr th {\n",
       "        vertical-align: top;\n",
       "    }\n",
       "\n",
       "    .dataframe thead th {\n",
       "        text-align: right;\n",
       "    }\n",
       "</style>\n",
       "<table border=\"1\" class=\"dataframe\">\n",
       "  <thead>\n",
       "    <tr style=\"text-align: right;\">\n",
       "      <th></th>\n",
       "      <th>RG</th>\n",
       "      <th>chr</th>\n",
       "      <th>x</th>\n",
       "      <th>y</th>\n",
       "    </tr>\n",
       "  </thead>\n",
       "  <tbody>\n",
       "    <tr>\n",
       "      <th>0</th>\n",
       "      <td>RG:Z:GGCTTCTACCGGTACC</td>\n",
       "      <td>chr1</td>\n",
       "      <td>9997</td>\n",
       "      <td>10392</td>\n",
       "    </tr>\n",
       "    <tr>\n",
       "      <th>1</th>\n",
       "      <td>RG:Z:GGCTTCTACCGGTACC</td>\n",
       "      <td>chr1</td>\n",
       "      <td>9997</td>\n",
       "      <td>10215</td>\n",
       "    </tr>\n",
       "    <tr>\n",
       "      <th>2</th>\n",
       "      <td>RG:Z:CGCTTAAGAAGAGGCT</td>\n",
       "      <td>chr1</td>\n",
       "      <td>9997</td>\n",
       "      <td>10411</td>\n",
       "    </tr>\n",
       "    <tr>\n",
       "      <th>3</th>\n",
       "      <td>RG:Z:AGGCGATGAAGAGGCT</td>\n",
       "      <td>chr1</td>\n",
       "      <td>10004</td>\n",
       "      <td>10083</td>\n",
       "    </tr>\n",
       "    <tr>\n",
       "      <th>4</th>\n",
       "      <td>RG:Z:AACCAACACGAGCCTC</td>\n",
       "      <td>chr1</td>\n",
       "      <td>10004</td>\n",
       "      <td>10083</td>\n",
       "    </tr>\n",
       "  </tbody>\n",
       "</table>\n",
       "</div>"
      ],
      "text/plain": [
       "                      RG   chr      x      y\n",
       "0  RG:Z:GGCTTCTACCGGTACC  chr1   9997  10392\n",
       "1  RG:Z:GGCTTCTACCGGTACC  chr1   9997  10215\n",
       "2  RG:Z:CGCTTAAGAAGAGGCT  chr1   9997  10411\n",
       "3  RG:Z:AGGCGATGAAGAGGCT  chr1  10004  10083\n",
       "4  RG:Z:AACCAACACGAGCCTC  chr1  10004  10083"
      ]
     },
     "execution_count": 88,
     "metadata": {},
     "output_type": "execute_result"
    }
   ],
   "source": [
    "path = os.path.expanduser('~/MyMACS2/data/ATAC/RG_aligns/data_GSE')\n",
    "name = 'GSM7790861'\n",
    "\n",
    "db_top100_cells = pd.read_csv(f'{path}/{name}_top_100_rg_coordinates_of_reads.csv')\n",
    "db_top100_cells.columns = ['RN', 'chr', 'x', 'y', 'RG', 'strand1', 'strand2']\n",
    "db_top100_cells = db_top100_cells[['RG', 'chr', 'x', 'y']]\n",
    "db_top100_cells.head()"
   ]
  },
  {
   "cell_type": "code",
   "execution_count": 89,
   "id": "739c47ce-bc09-41b1-9f0f-51e48b0030f2",
   "metadata": {},
   "outputs": [],
   "source": [
    "import pandas as pd\n",
    "import numpy as np\n",
    "\n",
    "# Фиксация seed для воспроизводимости\n",
    "np.random.seed(42)\n",
    "\n",
    "# Параметры\n",
    "rg = 'RG:Z:AAACCCTGAGTTCTCC'\n",
    "threshold = 0.4  \n",
    "N = 20           \n",
    "x_min = 64470145   \n",
    "y_max = 64472144   \n",
    "chrs = ['chr1']\n",
    "\n",
    "blurred_data_list = []\n",
    "\n",
    "db_top100_cells = db_top100_cells[db_top100_cells['RG'] == rg]\n",
    "\n",
    "for i in range(N):\n",
    "    blurred_data = pd.DataFrame()\n",
    "\n",
    "    for chrom in chrs:\n",
    "        chr_data = db_top100_cells[db_top100_cells['chr'] == chrom]\n",
    "        \n",
    "        # Оставляем только риды, которые находятся в диапазоне [x_min, y_max]\n",
    "        chr_data_filtered = chr_data[(chr_data['y'] >= x_min) & (chr_data['x'] <= y_max)]\n",
    "        \n",
    "        # Проверяем, что после фильтрации остались данные\n",
    "        if not chr_data_filtered.empty:\n",
    "            # Случайным образом выбираем threshold % ридов\n",
    "            sampled_data = chr_data_filtered.sample(frac=threshold, random_state=i)\n",
    "            # Добавляем в размытые данные\n",
    "            blurred_data = pd.concat([blurred_data, sampled_data], ignore_index=True)\n",
    "\n",
    "    # Добавляем размытые данные в список\n",
    "    blurred_data_list.append(blurred_data)\n",
    "\n",
    "# Пример: доступ к размытым данным для первой итерации\n",
    "blurred_data_example = blurred_data_list[0]\n"
   ]
  },
  {
   "cell_type": "code",
   "execution_count": 90,
   "id": "1730a5b0-ba23-46b4-a9f4-5af3f2385ef8",
   "metadata": {},
   "outputs": [
    {
     "data": {
      "text/html": [
       "<div>\n",
       "<style scoped>\n",
       "    .dataframe tbody tr th:only-of-type {\n",
       "        vertical-align: middle;\n",
       "    }\n",
       "\n",
       "    .dataframe tbody tr th {\n",
       "        vertical-align: top;\n",
       "    }\n",
       "\n",
       "    .dataframe thead th {\n",
       "        text-align: right;\n",
       "    }\n",
       "</style>\n",
       "<table border=\"1\" class=\"dataframe\">\n",
       "  <thead>\n",
       "    <tr style=\"text-align: right;\">\n",
       "      <th></th>\n",
       "      <th>RG</th>\n",
       "      <th>chr</th>\n",
       "      <th>x</th>\n",
       "      <th>y</th>\n",
       "    </tr>\n",
       "  </thead>\n",
       "  <tbody>\n",
       "    <tr>\n",
       "      <th>0</th>\n",
       "      <td>RG:Z:AAACCCTGAGTTCTCC</td>\n",
       "      <td>chr1</td>\n",
       "      <td>64470145</td>\n",
       "      <td>64470418</td>\n",
       "    </tr>\n",
       "    <tr>\n",
       "      <th>1</th>\n",
       "      <td>RG:Z:AAACCCTGAGTTCTCC</td>\n",
       "      <td>chr1</td>\n",
       "      <td>64471408</td>\n",
       "      <td>64471484</td>\n",
       "    </tr>\n",
       "    <tr>\n",
       "      <th>2</th>\n",
       "      <td>RG:Z:AAACCCTGAGTTCTCC</td>\n",
       "      <td>chr1</td>\n",
       "      <td>64470928</td>\n",
       "      <td>64471123</td>\n",
       "    </tr>\n",
       "    <tr>\n",
       "      <th>3</th>\n",
       "      <td>RG:Z:AAACCCTGAGTTCTCC</td>\n",
       "      <td>chr1</td>\n",
       "      <td>64471115</td>\n",
       "      <td>64471321</td>\n",
       "    </tr>\n",
       "    <tr>\n",
       "      <th>4</th>\n",
       "      <td>RG:Z:AAACCCTGAGTTCTCC</td>\n",
       "      <td>chr1</td>\n",
       "      <td>64470534</td>\n",
       "      <td>64470730</td>\n",
       "    </tr>\n",
       "  </tbody>\n",
       "</table>\n",
       "</div>"
      ],
      "text/plain": [
       "                      RG   chr         x         y\n",
       "0  RG:Z:AAACCCTGAGTTCTCC  chr1  64470145  64470418\n",
       "1  RG:Z:AAACCCTGAGTTCTCC  chr1  64471408  64471484\n",
       "2  RG:Z:AAACCCTGAGTTCTCC  chr1  64470928  64471123\n",
       "3  RG:Z:AAACCCTGAGTTCTCC  chr1  64471115  64471321\n",
       "4  RG:Z:AAACCCTGAGTTCTCC  chr1  64470534  64470730"
      ]
     },
     "execution_count": 90,
     "metadata": {},
     "output_type": "execute_result"
    }
   ],
   "source": [
    "blurred_data_example .head()"
   ]
  },
  {
   "cell_type": "code",
   "execution_count": 91,
   "id": "445fa67c-a95e-4d30-b141-44bc1cb37874",
   "metadata": {},
   "outputs": [],
   "source": [
    "def count_intensity(data):\n",
    "    \n",
    "    max_y = max(data['y']) + 1\n",
    "    start_end_count_in_chr = np.zeros((max_y, 2), dtype=int)\n",
    "\n",
    "    # Фильтрация и расчёт длины\n",
    "    #data['length'] = data['y'] - data['x']\n",
    "\n",
    "    # Заполнение интенсивности\n",
    "    for _, row in data[['x', 'y']].iterrows():\n",
    "        x = row['x']\n",
    "        y = row['y']\n",
    "        start_end_count_in_chr[x, 0] += 1\n",
    "        start_end_count_in_chr[y, 1] += 1\n",
    "\n",
    "    # Накопительная сумма интенсивности\n",
    "    intensity_nucleotides = np.cumsum(start_end_count_in_chr[:, 0] - np.pad(start_end_count_in_chr[:, 1][1:], (1, 0), 'constant'))\n",
    "\n",
    "    return intensity_nucleotides.tolist()\n",
    "\n",
    "\n"
   ]
  },
  {
   "cell_type": "code",
   "execution_count": 92,
   "id": "c83afd64-eafa-4072-be02-01796b91468c",
   "metadata": {},
   "outputs": [],
   "source": [
    "intensity_data = count_intensity(chr_data_filtered)\n",
    "intensity_data = intensity_data[x_min : y_max + 1]"
   ]
  },
  {
   "cell_type": "code",
   "execution_count": 93,
   "id": "e80bfa8f-b3e7-405b-b114-81c69183311b",
   "metadata": {},
   "outputs": [],
   "source": [
    "blured_intensity = count_intensity(blurred_data_list[1])\n",
    "\n",
    "blured_intensity = blured_intensity[x_min : y_max + 1]\n",
    "blured_intensity += [0] * (2000 - len(blured_intensity))"
   ]
  },
  {
   "cell_type": "code",
   "execution_count": 94,
   "id": "511c2bf2-0bc1-4b81-b8d8-4275e6e880bd",
   "metadata": {},
   "outputs": [
    {
     "data": {
      "text/plain": [
       "2000"
      ]
     },
     "execution_count": 94,
     "metadata": {},
     "output_type": "execute_result"
    }
   ],
   "source": [
    "len(blured_intensity)"
   ]
  },
  {
   "cell_type": "code",
   "execution_count": 82,
   "id": "2d4d8fa5-6a1a-43a5-ab03-1205b758897e",
   "metadata": {},
   "outputs": [
    {
     "data": {
      "image/png": "[encoded data removed]",
      "text/plain": [
       "<Figure size 1200x600 with 1 Axes>"
      ]
     },
     "metadata": {},
     "output_type": "display_data"
    }
   ],
   "source": [
    "import matplotlib.pyplot as plt\n",
    "\n",
    "def plot_intensity(original_intensity, blurred_intensity):\n",
    "    \"\"\"\n",
    "    Функция для визуализации покрытий оригинальных и зашумленных данных.\n",
    "    \n",
    "    :param original_intensity: Интенсивность покрытия оригинальных данных.\n",
    "    :param blurred_intensity: Интенсивность покрытия зашумленных данных.\n",
    "    :param x_min: Начало отрезка (минимальный нуклеотид).\n",
    "    :param x_max: Конец отрезка (максимальный нуклеотид).\n",
    "    \"\"\"\n",
    "    positions = range(2000)\n",
    "\n",
    "    plt.figure(figsize=(12, 6))\n",
    "\n",
    "    # Оригинальное покрытие - красным\n",
    "    plt.plot(positions, original_intensity, label=\"Original Coverage\", color=\"red\", alpha=0.7)\n",
    "\n",
    "    # Зашумленное покрытие - синим\n",
    "    plt.plot(positions, blurred_intensity, label=\"Blurred Coverage\", color=\"blue\", alpha=0.7)\n",
    "\n",
    "    plt.title(\"Coverage Intensity by Nucleotide\")\n",
    "    plt.xlabel(\"Nucleotide Position\")\n",
    "    plt.ylabel(\"Coverage Intensity\")\n",
    "    plt.legend()\n",
    "    plt.grid(alpha=0.3)\n",
    "    plt.show()\n",
    "\n",
    "# Параметры\n",
    "x_min = 64470145\n",
    "x_max = 64472144\n",
    "\n",
    "# Визуализация покрытий\n",
    "plot_intensity(intensity_data, blured_intensity)\n"
   ]
  },
  {
   "cell_type": "code",
   "execution_count": 27,
   "id": "a644e9c0-996f-4f3f-b429-bd4d221f3fca",
   "metadata": {},
   "outputs": [
    {
     "data": {
      "text/plain": [
       "np.int64(79072)"
      ]
     },
     "execution_count": 27,
     "metadata": {},
     "output_type": "execute_result"
    }
   ],
   "source": [
    "sum(coverage_filtered)"
   ]
  },
  {
   "cell_type": "code",
   "execution_count": null,
   "id": "b4f9d54d-e18d-4da8-8a93-fc0685087288",
   "metadata": {},
   "outputs": [],
   "source": []
  }
 ],
 "metadata": {
  "kernelspec": {
   "display_name": "Python 3 (ipykernel)",
   "language": "python",
   "name": "python3"
  },
  "language_info": {
   "codemirror_mode": {
    "name": "ipython",
    "version": 3
   },
   "file_extension": ".py",
   "mimetype": "text/x-python",
   "name": "python",
   "nbconvert_exporter": "python",
   "pygments_lexer": "ipython3",
   "version": "3.13.0"
  }
 },
 "nbformat": 4,
 "nbformat_minor": 5
}
