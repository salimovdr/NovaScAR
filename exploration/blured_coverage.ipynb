{
 "cells": [
  {
   "cell_type": "code",
   "execution_count": 4,
   "id": "db939a86-887f-4157-a9f0-c7e46c265836",
   "metadata": {},
   "outputs": [],
   "source": [
    "import os\n",
    "import pandas as pd\n",
    "import numpy as np\n",
    "from tqdm import tqdm\n",
    "from concurrent.futures import ProcessPoolExecutor, as_completed\n",
    "import argparse\n",
    "import json\n",
    "\n",
    "np.random.seed(42)"
   ]
  },
  {
   "cell_type": "code",
   "execution_count": 8,
   "id": "497b7c9a-9e94-4ac1-ae88-80b19ac2fea0",
   "metadata": {},
   "outputs": [],
   "source": [
    "path = os.path.expanduser('~/MyMACS2/data/ATAC/RG_aligns/data_GSE')\n",
    "name = 'GSM7790861'\n",
    "#rg = 'RG:Z:AAACCCTGAGTTCTCC'\n",
    "threshold = 0.4  \n",
    "N = 100           \n",
    "x_min = 64470145   \n",
    "y_max = 64472144   \n",
    "chrs = ['chr1']"
   ]
  },
  {
   "cell_type": "code",
   "execution_count": 31,
   "id": "06de6e95-d7cc-4948-a2e5-953fd9f172bf",
   "metadata": {},
   "outputs": [
    {
     "data": {
      "text/html": [
       "<div>\n",
       "<style scoped>\n",
       "    .dataframe tbody tr th:only-of-type {\n",
       "        vertical-align: middle;\n",
       "    }\n",
       "\n",
       "    .dataframe tbody tr th {\n",
       "        vertical-align: top;\n",
       "    }\n",
       "\n",
       "    .dataframe thead th {\n",
       "        text-align: right;\n",
       "    }\n",
       "</style>\n",
       "<table border=\"1\" class=\"dataframe\">\n",
       "  <thead>\n",
       "    <tr style=\"text-align: right;\">\n",
       "      <th></th>\n",
       "      <th>RG</th>\n",
       "      <th>chr</th>\n",
       "      <th>x</th>\n",
       "      <th>y</th>\n",
       "    </tr>\n",
       "  </thead>\n",
       "  <tbody>\n",
       "    <tr>\n",
       "      <th>0</th>\n",
       "      <td>RG:Z:GGCTTCTACCGGTACC</td>\n",
       "      <td>chr1</td>\n",
       "      <td>9997</td>\n",
       "      <td>10392</td>\n",
       "    </tr>\n",
       "    <tr>\n",
       "      <th>1</th>\n",
       "      <td>RG:Z:GGCTTCTACCGGTACC</td>\n",
       "      <td>chr1</td>\n",
       "      <td>9997</td>\n",
       "      <td>10215</td>\n",
       "    </tr>\n",
       "    <tr>\n",
       "      <th>2</th>\n",
       "      <td>RG:Z:CGCTTAAGAAGAGGCT</td>\n",
       "      <td>chr1</td>\n",
       "      <td>9997</td>\n",
       "      <td>10411</td>\n",
       "    </tr>\n",
       "    <tr>\n",
       "      <th>3</th>\n",
       "      <td>RG:Z:AGGCGATGAAGAGGCT</td>\n",
       "      <td>chr1</td>\n",
       "      <td>10004</td>\n",
       "      <td>10083</td>\n",
       "    </tr>\n",
       "    <tr>\n",
       "      <th>4</th>\n",
       "      <td>RG:Z:AACCAACACGAGCCTC</td>\n",
       "      <td>chr1</td>\n",
       "      <td>10004</td>\n",
       "      <td>10083</td>\n",
       "    </tr>\n",
       "  </tbody>\n",
       "</table>\n",
       "</div>"
      ],
      "text/plain": [
       "                      RG   chr      x      y\n",
       "0  RG:Z:GGCTTCTACCGGTACC  chr1   9997  10392\n",
       "1  RG:Z:GGCTTCTACCGGTACC  chr1   9997  10215\n",
       "2  RG:Z:CGCTTAAGAAGAGGCT  chr1   9997  10411\n",
       "3  RG:Z:AGGCGATGAAGAGGCT  chr1  10004  10083\n",
       "4  RG:Z:AACCAACACGAGCCTC  chr1  10004  10083"
      ]
     },
     "execution_count": 31,
     "metadata": {},
     "output_type": "execute_result"
    }
   ],
   "source": [
    "db_top100_cells = pd.read_csv(f'{path}/{name}_top_100_rg_coordinates_of_reads.csv')\n",
    "db_top100_cells.columns = ['RN', 'chr', 'x', 'y', 'RG', 'strand1', 'strand2']\n",
    "db_top100_cells = db_top100_cells[['RG', 'chr', 'x', 'y']]\n",
    "db_top100_cells.head()"
   ]
  },
  {
   "cell_type": "code",
   "execution_count": 33,
   "id": "3c38c8d6-0cac-4a37-93a5-b5ca59457a13",
   "metadata": {},
   "outputs": [],
   "source": [
    "with open(f'profile/{name}_RGs.txt', 'r') as file:\n",
    "    RGs = [line.strip() for line in file]"
   ]
  },
  {
   "cell_type": "code",
   "execution_count": 36,
   "id": "739c47ce-bc09-41b1-9f0f-51e48b0030f2",
   "metadata": {},
   "outputs": [
    {
     "name": "stderr",
     "output_type": "stream",
     "text": [
      "100%|█████████████████████████████████████████████████████████████████████████████████████████████████████████████████████████████████████████████████████████████████████| 100/100 [01:49<00:00,  1.10s/it]\n"
     ]
    }
   ],
   "source": [
    "blurred_data = {}\n",
    "\n",
    "# Основной цикл\n",
    "for rg in tqdm(RGs):\n",
    "    blurred_data[rg] = {}\n",
    "    \n",
    "    rg_data = db_top100_cells[db_top100_cells['RG'] == rg]\n",
    "    \n",
    "    for chromosome in chrs:\n",
    "        chr_data = rg_data[rg_data['chr'] == chromosome]\n",
    "        \n",
    "        chr_data_filtered = chr_data[(chr_data['y'] >= x_min) & (chr_data['x'] <= y_max)]\n",
    "\n",
    "        blurred_data_samples = []\n",
    "        for i in range(N):        \n",
    "            sampled_data = chr_data_filtered.sample(frac=threshold, random_state=i)\n",
    "            blurred_data_samples.append(sampled_data)\n",
    "        \n",
    "        blurred_data[rg][chromosome] = blurred_data_samples\n"
   ]
  },
  {
   "cell_type": "code",
   "execution_count": 56,
   "id": "1730a5b0-ba23-46b4-a9f4-5af3f2385ef8",
   "metadata": {},
   "outputs": [
    {
     "data": {
      "text/html": [
       "<div>\n",
       "<style scoped>\n",
       "    .dataframe tbody tr th:only-of-type {\n",
       "        vertical-align: middle;\n",
       "    }\n",
       "\n",
       "    .dataframe tbody tr th {\n",
       "        vertical-align: top;\n",
       "    }\n",
       "\n",
       "    .dataframe thead th {\n",
       "        text-align: right;\n",
       "    }\n",
       "</style>\n",
       "<table border=\"1\" class=\"dataframe\">\n",
       "  <thead>\n",
       "    <tr style=\"text-align: right;\">\n",
       "      <th></th>\n",
       "      <th>RG</th>\n",
       "      <th>chr</th>\n",
       "      <th>x</th>\n",
       "      <th>y</th>\n",
       "    </tr>\n",
       "  </thead>\n",
       "  <tbody>\n",
       "    <tr>\n",
       "      <th>591227</th>\n",
       "      <td>RG:Z:CATTGTTACGAAATCA</td>\n",
       "      <td>chr1</td>\n",
       "      <td>64470832</td>\n",
       "      <td>64471019</td>\n",
       "    </tr>\n",
       "    <tr>\n",
       "      <th>591261</th>\n",
       "      <td>RG:Z:CATTGTTACGAAATCA</td>\n",
       "      <td>chr1</td>\n",
       "      <td>64471029</td>\n",
       "      <td>64471431</td>\n",
       "    </tr>\n",
       "  </tbody>\n",
       "</table>\n",
       "</div>"
      ],
      "text/plain": [
       "                           RG   chr         x         y\n",
       "591227  RG:Z:CATTGTTACGAAATCA  chr1  64470832  64471019\n",
       "591261  RG:Z:CATTGTTACGAAATCA  chr1  64471029  64471431"
      ]
     },
     "execution_count": 56,
     "metadata": {},
     "output_type": "execute_result"
    }
   ],
   "source": [
    "blurred_data[RGs[15]]['chr1'][24].head()"
   ]
  },
  {
   "cell_type": "code",
   "execution_count": 91,
   "id": "445fa67c-a95e-4d30-b141-44bc1cb37874",
   "metadata": {},
   "outputs": [],
   "source": [
    "def count_intensity(data):\n",
    "    \n",
    "    max_y = max(data['y']) + 1\n",
    "    start_end_count_in_chr = np.zeros((max_y, 2), dtype=int)\n",
    "\n",
    "    # Фильтрация и расчёт длины\n",
    "    #data['length'] = data['y'] - data['x']\n",
    "\n",
    "    # Заполнение интенсивности\n",
    "    for _, row in data[['x', 'y']].iterrows():\n",
    "        x = row['x']\n",
    "        y = row['y']\n",
    "        start_end_count_in_chr[x, 0] += 1\n",
    "        start_end_count_in_chr[y, 1] += 1\n",
    "\n",
    "    intensity_nucleotides = np.cumsum(start_end_count_in_chr[:, 0] - np.pad(start_end_count_in_chr[:, 1][1:], (1, 0), 'constant'))\n",
    "\n",
    "    return intensity_nucleotides.tolist()\n",
    "\n",
    "\n"
   ]
  },
  {
   "cell_type": "code",
   "execution_count": 92,
   "id": "c83afd64-eafa-4072-be02-01796b91468c",
   "metadata": {},
   "outputs": [],
   "source": [
    "intensity_data = count_intensity(chr_data_filtered)\n",
    "intensity_data = intensity_data[x_min : y_max + 1]"
   ]
  },
  {
   "cell_type": "code",
   "execution_count": 98,
   "id": "e80bfa8f-b3e7-405b-b114-81c69183311b",
   "metadata": {},
   "outputs": [],
   "source": [
    "blured_intensity = count_intensity(blurred_data_list[12])\n",
    "\n",
    "blured_intensity = blured_intensity[x_min : y_max + 1]\n",
    "blured_intensity += [0] * (2000 - len(blured_intensity))"
   ]
  },
  {
   "cell_type": "code",
   "execution_count": 99,
   "id": "511c2bf2-0bc1-4b81-b8d8-4275e6e880bd",
   "metadata": {},
   "outputs": [
    {
     "data": {
      "text/plain": [
       "2000"
      ]
     },
     "execution_count": 99,
     "metadata": {},
     "output_type": "execute_result"
    }
   ],
   "source": [
    "len(blured_intensity)"
   ]
  },
  {
   "cell_type": "code",
   "execution_count": 100,
   "id": "2d4d8fa5-6a1a-43a5-ab03-1205b758897e",
   "metadata": {},
   "outputs": [
    {
     "data": {
      "image/png": "[encoded data removed]",
      "text/plain": [
       "<Figure size 1200x600 with 1 Axes>"
      ]
     },
     "metadata": {},
     "output_type": "display_data"
    }
   ],
   "source": [
    "import matplotlib.pyplot as plt\n",
    "\n",
    "def plot_intensity(original_intensity, blurred_intensity):\n",
    "    \"\"\"\n",
    "    Функция для визуализации покрытий оригинальных и зашумленных данных.\n",
    "    \n",
    "    :param original_intensity: Интенсивность покрытия оригинальных данных.\n",
    "    :param blurred_intensity: Интенсивность покрытия зашумленных данных.\n",
    "    :param x_min: Начало отрезка (минимальный нуклеотид).\n",
    "    :param x_max: Конец отрезка (максимальный нуклеотид).\n",
    "    \"\"\"\n",
    "    positions = range(2000)\n",
    "\n",
    "    plt.figure(figsize=(12, 6))\n",
    "\n",
    "    # Оригинальное покрытие - красным\n",
    "    plt.plot(positions, original_intensity, label=\"Original Coverage\", color=\"red\", alpha=0.7)\n",
    "\n",
    "    # Зашумленное покрытие - синим\n",
    "    plt.plot(positions, blurred_intensity, label=\"Blurred Coverage\", color=\"blue\", alpha=0.7)\n",
    "\n",
    "    plt.title(\"Coverage Intensity by Nucleotide\")\n",
    "    plt.xlabel(\"Nucleotide Position\")\n",
    "    plt.ylabel(\"Coverage Intensity\")\n",
    "    plt.legend()\n",
    "    plt.grid(alpha=0.3)\n",
    "    plt.show()\n",
    "\n",
    "# Параметры\n",
    "x_min = 64470145\n",
    "x_max = 64472144\n",
    "\n",
    "# Визуализация покрытий\n",
    "plot_intensity(intensity_data, blured_intensity)\n"
   ]
  },
  {
   "cell_type": "code",
   "execution_count": 27,
   "id": "a644e9c0-996f-4f3f-b429-bd4d221f3fca",
   "metadata": {},
   "outputs": [
    {
     "data": {
      "text/plain": [
       "np.int64(79072)"
      ]
     },
     "execution_count": 27,
     "metadata": {},
     "output_type": "execute_result"
    }
   ],
   "source": [
    "sum(coverage_filtered)"
   ]
  },
  {
   "cell_type": "code",
   "execution_count": null,
   "id": "b4f9d54d-e18d-4da8-8a93-fc0685087288",
   "metadata": {},
   "outputs": [],
   "source": []
  }
 ],
 "metadata": {
  "kernelspec": {
   "display_name": "Python 3 (ipykernel)",
   "language": "python",
   "name": "python3"
  },
  "language_info": {
   "codemirror_mode": {
    "name": "ipython",
    "version": 3
   },
   "file_extension": ".py",
   "mimetype": "text/x-python",
   "name": "python",
   "nbconvert_exporter": "python",
   "pygments_lexer": "ipython3",
   "version": "3.13.0"
  }
 },
 "nbformat": 4,
 "nbformat_minor": 5
}
