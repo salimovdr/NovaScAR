{
 "cells": [
  {
   "cell_type": "code",
   "execution_count": 5,
   "id": "723708cf-f18a-4b56-882e-3dd14061db2d",
   "metadata": {},
   "outputs": [],
   "source": [
    "import pandas as pd\n",
    "import matplotlib.pyplot as plt\n",
    "from scipy.stats import poisson\n",
    "from statsmodels.stats.multitest import multipletests\n",
    "import numpy as np\n",
    "import json\n",
    "from tqdm import tqdm\n",
    "import time\n",
    "from datetime import datetime\n",
    "import os\n",
    "from concurrent.futures import ProcessPoolExecutor, as_completed"
   ]
  },
  {
   "cell_type": "code",
   "execution_count": 15,
   "id": "13b1cb13-8894-44c2-a728-b1908f27f0cf",
   "metadata": {},
   "outputs": [],
   "source": [
    "path = '~/MyMACS2/data/ATAC/RG_aligns/data_GSE' \n",
    "name = 'GSM7790861'\n",
    "\n",
    "db_top100_cells = pd.read_csv(f'{path}/{name}_top_100_rg_coordinates_of_reads.csv')\n",
    "db_top100_cells.columns = ['RN', 'chr', 'x', 'y', 'RG', 'strand1', 'strand2']\n",
    "db_top100_cells = db_top100_cells[['RG', 'chr', 'x', 'y']]"
   ]
  },
  {
   "cell_type": "code",
   "execution_count": 16,
   "id": "736fca66-6ec7-4f3a-a381-192c1338fb9e",
   "metadata": {},
   "outputs": [],
   "source": [
    "max_x = max(db_top100_cells['y'])\n",
    "chrs = [f'chr{i}' for i in range(1, 23)] + ['chrX', 'chrY']\n",
    "db_top100_cells = db_top100_cells[db_top100_cells['chr'].isin(chrs)]"
   ]
  },
  {
   "cell_type": "code",
   "execution_count": 17,
   "id": "5d97d2b5-eefe-4905-8b3c-b2bf5a0c2e86",
   "metadata": {},
   "outputs": [],
   "source": [
    "db_peaks = pd.read_csv(f'{path}/{name}_peaks.xls', sep='\\t', comment='#')\n",
    "db_peaks = db_peaks.rename(columns={'start': 'x', 'end': 'y', 'abs_summit': 'x_summit', 'name': 'id'})\n",
    "db_peaks = db_peaks[db_peaks['chr'].isin(chrs)]\n",
    "\n",
    "max_x = max(max_x, max(db_peaks['y']))"
   ]
  },
  {
   "cell_type": "code",
   "execution_count": 18,
   "id": "473497f7-1fed-48f1-9763-6d73ac5d8141",
   "metadata": {},
   "outputs": [],
   "source": [
    "RGs = list(db_top100_cells['RG'].unique())"
   ]
  },
  {
   "cell_type": "code",
   "execution_count": 23,
   "id": "000303a9-a356-49f8-8049-19ef5cbb68cc",
   "metadata": {},
   "outputs": [],
   "source": [
    "dict_peaks = {}\n",
    "for chr_value, db_chr in db_peaks.groupby('chr'):\n",
    "    dict_peaks[chr_value] = {RG: db_chr.sort_values(by='y') for RG in RGs}"
   ]
  },
  {
   "cell_type": "code",
   "execution_count": 41,
   "id": "0ac9f978-ec05-4b5e-b8d8-f8b6bdac07b6",
   "metadata": {},
   "outputs": [],
   "source": [
    "dict_top100_cells = {}\n",
    "for chr_value, db_chr in db_top100_cells.groupby('chr'):\n",
    "    dict_top100_cells[chr_value] = {RG: db_rg.sort_values(by='y') for RG, db_rg in db_chr.groupby('RG')}"
   ]
  },
  {
   "cell_type": "code",
   "execution_count": 49,
   "id": "f53052f4-0a6a-4dc0-b50d-6b44917da510",
   "metadata": {},
   "outputs": [],
   "source": [
    "def count_intensity(RG, chr):\n",
    "    start_end_count_in_chr = [[0, 0] for _ in range(max(max(dict_peaks[chr][RG]['y']), max(dict_top100_cells[chr][RG]['y'])) + 1)]\n",
    "    \n",
    "    dict_top100_cells[chr][RG]['length'] = dict_top100_cells[chr][RG]['y'] - dict_top100_cells[chr][RG]['x']\n",
    "    dict_top100_cells[chr][RG] = dict_top100_cells[chr][RG][dict_top100_cells[chr][RG]['length'] < 5000]\n",
    "    \n",
    "    for index, row in dict_top100_cells[chr][RG][['x', 'y']].iterrows():\n",
    "        x = row['x']\n",
    "        y = row['y']\n",
    "        start_end_count_in_chr[x][0] += 1\n",
    "        start_end_count_in_chr[y][1] += 1\n",
    "\n",
    "    intensity_nucleotides = [0] * len(start_end_count_in_chr)\n",
    "\n",
    "    current_intensity = 0\n",
    "    for i in range(len(start_end_count_in_chr)):\n",
    "        if i != 0:\n",
    "            current_intensity += (start_end_count_in_chr[i][0] - start_end_count_in_chr[i - 1][1])\n",
    "        else:\n",
    "            current_intensity += start_end_count_in_chr[i][0]\n",
    "        intensity_nucleotides[i] = current_intensity\n",
    "\n",
    "    intensity_nucleotides.append(0)\n",
    "    return (RG, chr, intensity_nucleotides)\n",
    "\n",
    "# Функция для параллельного вычисления\n",
    "def process_RG(RG):\n",
    "    result = {}\n",
    "    for chr in chrs:\n",
    "        _, _, intensity = count_intensity(RG, chr)\n",
    "        result[chr] = intensity\n",
    "    return RG, result\n",
    "\n",
    "intensity_nucleotides = {}"
   ]
  },
  {
   "cell_type": "code",
   "execution_count": null,
   "id": "f3b37912-0d45-4030-b177-93a5a7ab0769",
   "metadata": {},
   "outputs": [],
   "source": [
    "# Параллельная обработка\n",
    "with ProcessPoolExecutor() as executor:\n",
    "    futures = {executor.submit(process_RG, RG): RG for RG in RGs}\n",
    "    for future in tqdm(futures):\n",
    "        RG, result = future.result()\n",
    "        intensity_nucleotides[RG] = result"
   ]
  },
  {
   "cell_type": "code",
   "execution_count": null,
   "id": "89b7ff42-199b-45c9-91ca-f65d3545b406",
   "metadata": {},
   "outputs": [],
   "source": []
  },
  {
   "cell_type": "code",
   "execution_count": 48,
   "id": "2a9a8841-deaf-4b32-b050-6c0417e25a6e",
   "metadata": {},
   "outputs": [
    {
     "name": "stderr",
     "output_type": "stream",
     "text": [
      "  0%|                                                                                      | 0/100 [00:00<?, ?it/s]Exception ignored in: <bound method IPythonKernel._clean_thread_parent_frames of <ipykernel.ipkernel.IPythonKernel object at 0x7b6e875e4220>>\n",
      "Traceback (most recent call last):\n",
      "  File \"/home/salimovdr/miniconda3/envs/Keras/lib/python3.9/site-packages/ipykernel/ipkernel.py\", line 775, in _clean_thread_parent_frames\n",
      "    def _clean_thread_parent_frames(\n",
      "KeyboardInterrupt: \n",
      "Exception ignored in: <generator object tqdm.__iter__ at 0x7b6c315ce4a0>\n",
      "Traceback (most recent call last):\n",
      "  File \"/home/salimovdr/miniconda3/envs/Keras/lib/python3.9/site-packages/tqdm/std.py\", line 1182, in __iter__\n",
      "    yield obj\n",
      "KeyboardInterrupt: \n",
      "  0%|                                                                                      | 0/100 [01:48<?, ?it/s]\n"
     ]
    },
    {
     "ename": "KeyboardInterrupt",
     "evalue": "",
     "output_type": "error",
     "traceback": [
      "\u001b[0;31m---------------------------------------------------------------------------\u001b[0m",
      "\u001b[0;31mKeyboardInterrupt\u001b[0m                         Traceback (most recent call last)",
      "Cell \u001b[0;32mIn[48], line 6\u001b[0m\n\u001b[1;32m      4\u001b[0m intensity_nucleotides[RG] \u001b[38;5;241m=\u001b[39m {}\n\u001b[1;32m      5\u001b[0m \u001b[38;5;28;01mfor\u001b[39;00m \u001b[38;5;28mchr\u001b[39m \u001b[38;5;129;01min\u001b[39;00m chrs:\n\u001b[0;32m----> 6\u001b[0m     intensity_nucleotides[RG][\u001b[38;5;28mchr\u001b[39m] \u001b[38;5;241m=\u001b[39m \u001b[43mcount_intensity\u001b[49m\u001b[43m(\u001b[49m\u001b[43mRG\u001b[49m\u001b[43m,\u001b[49m\u001b[43m \u001b[49m\u001b[38;5;28;43mchr\u001b[39;49m\u001b[43m)\u001b[49m\n",
      "Cell \u001b[0;32mIn[47], line 4\u001b[0m, in \u001b[0;36mcount_intensity\u001b[0;34m(RG, chr)\u001b[0m\n\u001b[1;32m      1\u001b[0m \u001b[38;5;28;01mdef\u001b[39;00m \u001b[38;5;21mcount_intensity\u001b[39m(RG, \u001b[38;5;28mchr\u001b[39m):\n\u001b[1;32m      2\u001b[0m     \u001b[38;5;66;03m#log = f'Начал считать интенсивность: RG={RG}, chr={chr}.'\u001b[39;00m\n\u001b[1;32m      3\u001b[0m     \u001b[38;5;66;03m#write_log(log)\u001b[39;00m\n\u001b[0;32m----> 4\u001b[0m     start_end_count_in_chr \u001b[38;5;241m=\u001b[39m [[\u001b[38;5;241m0\u001b[39m, \u001b[38;5;241m0\u001b[39m] \u001b[38;5;28;01mfor\u001b[39;00m _ \u001b[38;5;129;01min\u001b[39;00m \u001b[38;5;28mrange\u001b[39m(\u001b[38;5;28mmax\u001b[39m(\u001b[38;5;28mmax\u001b[39m(dict_peaks[\u001b[38;5;28mchr\u001b[39m][RG][\u001b[38;5;124m'\u001b[39m\u001b[38;5;124my\u001b[39m\u001b[38;5;124m'\u001b[39m]), \u001b[38;5;28mmax\u001b[39m(dict_top100_cells[\u001b[38;5;28mchr\u001b[39m][RG][\u001b[38;5;124m'\u001b[39m\u001b[38;5;124my\u001b[39m\u001b[38;5;124m'\u001b[39m])) \u001b[38;5;241m+\u001b[39m \u001b[38;5;241m1\u001b[39m)]\n\u001b[1;32m      6\u001b[0m     dict_top100_cells[\u001b[38;5;28mchr\u001b[39m][RG][\u001b[38;5;124m'\u001b[39m\u001b[38;5;124mlength\u001b[39m\u001b[38;5;124m'\u001b[39m] \u001b[38;5;241m=\u001b[39m dict_top100_cells[\u001b[38;5;28mchr\u001b[39m][RG][\u001b[38;5;124m'\u001b[39m\u001b[38;5;124my\u001b[39m\u001b[38;5;124m'\u001b[39m] \u001b[38;5;241m-\u001b[39m dict_top100_cells[\u001b[38;5;28mchr\u001b[39m][RG][\u001b[38;5;124m'\u001b[39m\u001b[38;5;124mx\u001b[39m\u001b[38;5;124m'\u001b[39m]\n\u001b[1;32m      7\u001b[0m     dict_top100_cells[\u001b[38;5;28mchr\u001b[39m][RG] \u001b[38;5;241m=\u001b[39m dict_top100_cells[\u001b[38;5;28mchr\u001b[39m][RG][dict_top100_cells[\u001b[38;5;28mchr\u001b[39m][RG][\u001b[38;5;124m'\u001b[39m\u001b[38;5;124mlength\u001b[39m\u001b[38;5;124m'\u001b[39m] \u001b[38;5;241m<\u001b[39m \u001b[38;5;241m500\u001b[39m]\n",
      "Cell \u001b[0;32mIn[47], line 4\u001b[0m, in \u001b[0;36m<listcomp>\u001b[0;34m(.0)\u001b[0m\n\u001b[1;32m      1\u001b[0m \u001b[38;5;28;01mdef\u001b[39;00m \u001b[38;5;21mcount_intensity\u001b[39m(RG, \u001b[38;5;28mchr\u001b[39m):\n\u001b[1;32m      2\u001b[0m     \u001b[38;5;66;03m#log = f'Начал считать интенсивность: RG={RG}, chr={chr}.'\u001b[39;00m\n\u001b[1;32m      3\u001b[0m     \u001b[38;5;66;03m#write_log(log)\u001b[39;00m\n\u001b[0;32m----> 4\u001b[0m     start_end_count_in_chr \u001b[38;5;241m=\u001b[39m [[\u001b[38;5;241m0\u001b[39m, \u001b[38;5;241m0\u001b[39m] \u001b[38;5;28;01mfor\u001b[39;00m _ \u001b[38;5;129;01min\u001b[39;00m \u001b[38;5;28mrange\u001b[39m(\u001b[38;5;28mmax\u001b[39m(\u001b[38;5;28mmax\u001b[39m(dict_peaks[\u001b[38;5;28mchr\u001b[39m][RG][\u001b[38;5;124m'\u001b[39m\u001b[38;5;124my\u001b[39m\u001b[38;5;124m'\u001b[39m]), \u001b[38;5;28mmax\u001b[39m(dict_top100_cells[\u001b[38;5;28mchr\u001b[39m][RG][\u001b[38;5;124m'\u001b[39m\u001b[38;5;124my\u001b[39m\u001b[38;5;124m'\u001b[39m])) \u001b[38;5;241m+\u001b[39m \u001b[38;5;241m1\u001b[39m)]\n\u001b[1;32m      6\u001b[0m     dict_top100_cells[\u001b[38;5;28mchr\u001b[39m][RG][\u001b[38;5;124m'\u001b[39m\u001b[38;5;124mlength\u001b[39m\u001b[38;5;124m'\u001b[39m] \u001b[38;5;241m=\u001b[39m dict_top100_cells[\u001b[38;5;28mchr\u001b[39m][RG][\u001b[38;5;124m'\u001b[39m\u001b[38;5;124my\u001b[39m\u001b[38;5;124m'\u001b[39m] \u001b[38;5;241m-\u001b[39m dict_top100_cells[\u001b[38;5;28mchr\u001b[39m][RG][\u001b[38;5;124m'\u001b[39m\u001b[38;5;124mx\u001b[39m\u001b[38;5;124m'\u001b[39m]\n\u001b[1;32m      7\u001b[0m     dict_top100_cells[\u001b[38;5;28mchr\u001b[39m][RG] \u001b[38;5;241m=\u001b[39m dict_top100_cells[\u001b[38;5;28mchr\u001b[39m][RG][dict_top100_cells[\u001b[38;5;28mchr\u001b[39m][RG][\u001b[38;5;124m'\u001b[39m\u001b[38;5;124mlength\u001b[39m\u001b[38;5;124m'\u001b[39m] \u001b[38;5;241m<\u001b[39m \u001b[38;5;241m500\u001b[39m]\n",
      "\u001b[0;31mKeyboardInterrupt\u001b[0m: "
     ]
    }
   ],
   "source": []
  },
  {
   "cell_type": "code",
   "execution_count": null,
   "id": "28220565-421b-492a-a0ee-0b5bfa78ceee",
   "metadata": {},
   "outputs": [],
   "source": []
  }
 ],
 "metadata": {
  "kernelspec": {
   "display_name": "Python 3 (ipykernel)",
   "language": "python",
   "name": "python3"
  },
  "language_info": {
   "codemirror_mode": {
    "name": "ipython",
    "version": 3
   },
   "file_extension": ".py",
   "mimetype": "text/x-python",
   "name": "python",
   "nbconvert_exporter": "python",
   "pygments_lexer": "ipython3",
   "version": "3.9.19"
  }
 },
 "nbformat": 4,
 "nbformat_minor": 5
}
